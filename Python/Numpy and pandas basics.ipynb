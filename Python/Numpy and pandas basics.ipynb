{
 "cells": [
  {
   "cell_type": "code",
   "execution_count": 1,
   "id": "dc3cee08-5449-449f-80db-96da6195461e",
   "metadata": {},
   "outputs": [],
   "source": [
    "import numpy as np"
   ]
  },
  {
   "cell_type": "code",
   "execution_count": 2,
   "id": "ebece10c-2cea-48d2-995b-13cea53ceac0",
   "metadata": {},
   "outputs": [],
   "source": [
    "arr = np.array([10,20,30,40,50])"
   ]
  },
  {
   "cell_type": "code",
   "execution_count": 3,
   "id": "fb102fe2-54d9-4a13-9ac7-888b58d95e52",
   "metadata": {},
   "outputs": [
    {
     "name": "stdout",
     "output_type": "stream",
     "text": [
      "Array: [10 20 30 40 50]\n"
     ]
    }
   ],
   "source": [
    "print(\"Array:\",arr)"
   ]
  },
  {
   "cell_type": "code",
   "execution_count": 4,
   "id": "ef206bd1-e301-464b-92f1-ee9c42643a3e",
   "metadata": {},
   "outputs": [
    {
     "name": "stdout",
     "output_type": "stream",
     "text": [
      "Mean: 30.0\n"
     ]
    }
   ],
   "source": [
    "print(\"Mean:\",np.mean(arr))"
   ]
  },
  {
   "cell_type": "code",
   "execution_count": 5,
   "id": "b7f420f0-59ee-463d-af2c-5767a95018d3",
   "metadata": {},
   "outputs": [
    {
     "name": "stdout",
     "output_type": "stream",
     "text": [
      "Sum: 150\n"
     ]
    }
   ],
   "source": [
    "print(\"Sum:\",np.sum(arr))"
   ]
  },
  {
   "cell_type": "code",
   "execution_count": 6,
   "id": "f3692b29-577b-48b6-b097-1e72cb6bb11b",
   "metadata": {},
   "outputs": [
    {
     "name": "stdout",
     "output_type": "stream",
     "text": [
      "Standard Deviation: 14.142135623730951\n"
     ]
    }
   ],
   "source": [
    "print(\"Standard Deviation:\",np.std(arr))"
   ]
  },
  {
   "cell_type": "code",
   "execution_count": 7,
   "id": "a53388b5-c4cc-4bbc-923c-5e56b67cd5ec",
   "metadata": {},
   "outputs": [
    {
     "name": "stdout",
     "output_type": "stream",
     "text": [
      "Array squared: [ 100  400  900 1600 2500]\n"
     ]
    }
   ],
   "source": [
    "print(\"Array squared:\",arr**2)"
   ]
  },
  {
   "cell_type": "code",
   "execution_count": 8,
   "id": "b6f2706d-4deb-49e4-afd8-56773243c7e5",
   "metadata": {},
   "outputs": [],
   "source": [
    "import random"
   ]
  },
  {
   "cell_type": "code",
   "execution_count": 13,
   "id": "cdf5429d-62db-4e3f-9453-88054e033ef3",
   "metadata": {},
   "outputs": [
    {
     "name": "stdout",
     "output_type": "stream",
     "text": [
      "Mean: 6.0\n",
      "Sum: 60\n",
      "Standard Deviation: 2.6076809620810595\n"
     ]
    }
   ],
   "source": [
    "\n",
    "arr2 = np.random.randint(1,11,(5,2))\n",
    "print(\"Mean:\",np.mean(arr2))\n",
    "print(\"Sum:\",np.sum(arr2))\n",
    "print(\"Standard Deviation:\",np.std(arr2))"
   ]
  },
  {
   "cell_type": "code",
   "execution_count": 11,
   "id": "c47c5129-ef8f-49da-a927-ae2f95364236",
   "metadata": {},
   "outputs": [
    {
     "data": {
      "text/plain": [
       "array([[1, 3],\n",
       "       [8, 6],\n",
       "       [3, 5],\n",
       "       [8, 4],\n",
       "       [1, 2]])"
      ]
     },
     "execution_count": 11,
     "metadata": {},
     "output_type": "execute_result"
    }
   ],
   "source": [
    "arr2"
   ]
  },
  {
   "cell_type": "code",
   "execution_count": 22,
   "id": "61c67e2b-b790-434a-b399-e7392e6221e0",
   "metadata": {},
   "outputs": [],
   "source": [
    "arr3 = np.arange(1,13).reshape(4,3)"
   ]
  },
  {
   "cell_type": "code",
   "execution_count": 25,
   "id": "ca08d9c3-c6f3-4c99-8d8f-f66b2ca7430e",
   "metadata": {},
   "outputs": [
    {
     "name": "stdout",
     "output_type": "stream",
     "text": [
      "[[ 1  2  3]\n",
      " [ 4  5  6]\n",
      " [ 7  8  9]\n",
      " [10 11 12]]\n",
      "5\n"
     ]
    }
   ],
   "source": [
    "print(arr3)\n",
    "print(arr3[1][1])"
   ]
  },
  {
   "cell_type": "code",
   "execution_count": 19,
   "id": "cd35b2ca-e4ba-4858-97cd-695b26a654f8",
   "metadata": {},
   "outputs": [
    {
     "name": "stdout",
     "output_type": "stream",
     "text": [
      "[1 2 3 4]\n"
     ]
    }
   ],
   "source": [
    "print(arr3[0])"
   ]
  },
  {
   "cell_type": "code",
   "execution_count": 21,
   "id": "65241b45-14dd-4390-a2e7-f3f9185a9f5e",
   "metadata": {},
   "outputs": [
    {
     "name": "stdout",
     "output_type": "stream",
     "text": [
      "7\n"
     ]
    }
   ],
   "source": [
    "print(arr3[1][2])"
   ]
  },
  {
   "cell_type": "code",
   "execution_count": 26,
   "id": "792e286f-aea9-4f81-a645-72d4991f5022",
   "metadata": {},
   "outputs": [],
   "source": [
    "random_arr = np.random.randint(1,100,(5,5))"
   ]
  },
  {
   "cell_type": "code",
   "execution_count": 27,
   "id": "35771d15-c84b-4753-a338-912988396a48",
   "metadata": {},
   "outputs": [
    {
     "data": {
      "text/plain": [
       "array([[99, 40,  9, 75, 46],\n",
       "       [99, 96, 30,  6, 31],\n",
       "       [49, 11, 77, 51,  3],\n",
       "       [46, 52, 70, 89, 55],\n",
       "       [78, 79, 50, 33, 51]])"
      ]
     },
     "execution_count": 27,
     "metadata": {},
     "output_type": "execute_result"
    }
   ],
   "source": [
    "random_arr"
   ]
  },
  {
   "cell_type": "code",
   "execution_count": 34,
   "id": "abb05b5a-5e0a-40e7-a104-79537e152636",
   "metadata": {},
   "outputs": [],
   "source": [
    "random_arr2 = np.random.rand(5,5)"
   ]
  },
  {
   "cell_type": "code",
   "execution_count": 35,
   "id": "3f3aac9a-7438-41e5-bc1e-5b44941f1188",
   "metadata": {},
   "outputs": [
    {
     "data": {
      "text/plain": [
       "array([[0.92078738, 0.84652774, 0.78654077, 0.72278614, 0.38202459],\n",
       "       [0.11464187, 0.953773  , 0.32501685, 0.47422966, 0.32381615],\n",
       "       [0.83780873, 0.40615403, 0.70042505, 0.61988245, 0.19027681],\n",
       "       [0.32016813, 0.4348843 , 0.81745746, 0.37919951, 0.70049769],\n",
       "       [0.12030827, 0.31632343, 0.60546016, 0.4568147 , 0.24526591]])"
      ]
     },
     "execution_count": 35,
     "metadata": {},
     "output_type": "execute_result"
    }
   ],
   "source": [
    "random_arr2"
   ]
  },
  {
   "cell_type": "markdown",
   "id": "8cee80a3-1599-4b72-b176-fa55d83923a6",
   "metadata": {},
   "source": [
    "##### PANDAS"
   ]
  },
  {
   "cell_type": "code",
   "execution_count": 36,
   "id": "903946c5-2973-44a0-83b9-7782632dba0e",
   "metadata": {},
   "outputs": [],
   "source": [
    "import pandas as pd"
   ]
  },
  {
   "cell_type": "code",
   "execution_count": 38,
   "id": "554ba0c4-15f0-4ffa-82d7-e0a20b838a01",
   "metadata": {},
   "outputs": [],
   "source": [
    "data = {\n",
    "    \"Name\":[\"Alice\",\"Serna\",\"Ketsia\",\"Tychique\",\"Keren\"],\n",
    "    \"Age\":[20,22,8,20,17],\n",
    "    \"City\":[\"Joburg\",\"Cape Town\",\"Tokyo\",\"Seoul\",\"Bangkok\"]\n",
    "}\n"
   ]
  },
  {
   "cell_type": "code",
   "execution_count": 39,
   "id": "21757292-e01c-4748-9a75-a78725238ee1",
   "metadata": {},
   "outputs": [],
   "source": [
    "data_frame = pd.DataFrame(data)"
   ]
  },
  {
   "cell_type": "code",
   "execution_count": 40,
   "id": "54dc7c17-90f3-4bd9-b91f-ac2f3b39941b",
   "metadata": {},
   "outputs": [
    {
     "name": "stdout",
     "output_type": "stream",
     "text": [
      "       Name  Age       City\n",
      "0     Alice   20     Joburg\n",
      "1     Serna   22  Cape Town\n",
      "2    Ketsia    8      Tokyo\n",
      "3  Tychique   20      Seoul\n",
      "4     Keren   17    Bangkok\n"
     ]
    }
   ],
   "source": [
    "print(data_frame)"
   ]
  },
  {
   "cell_type": "code",
   "execution_count": 41,
   "id": "b899b57b-8610-4e78-9353-abfd5c522b5a",
   "metadata": {},
   "outputs": [
    {
     "name": "stdout",
     "output_type": "stream",
     "text": [
      "<class 'pandas.core.frame.DataFrame'>\n",
      "RangeIndex: 5 entries, 0 to 4\n",
      "Data columns (total 3 columns):\n",
      " #   Column  Non-Null Count  Dtype \n",
      "---  ------  --------------  ----- \n",
      " 0   Name    5 non-null      object\n",
      " 1   Age     5 non-null      int64 \n",
      " 2   City    5 non-null      object\n",
      "dtypes: int64(1), object(2)\n",
      "memory usage: 248.0+ bytes\n",
      "None\n"
     ]
    }
   ],
   "source": [
    "print(data_frame.info())"
   ]
  },
  {
   "cell_type": "code",
   "execution_count": 42,
   "id": "ed6950e7-030a-4670-8014-2e1ae663613c",
   "metadata": {},
   "outputs": [
    {
     "name": "stdout",
     "output_type": "stream",
     "text": [
      "             Age\n",
      "count   5.000000\n",
      "mean   17.400000\n",
      "std     5.549775\n",
      "min     8.000000\n",
      "25%    17.000000\n",
      "50%    20.000000\n",
      "75%    20.000000\n",
      "max    22.000000\n"
     ]
    }
   ],
   "source": [
    "print(data_frame.describe())"
   ]
  },
  {
   "cell_type": "code",
   "execution_count": 44,
   "id": "05eb8535-c022-4480-9b50-94b6f96c8793",
   "metadata": {},
   "outputs": [],
   "source": [
    "data_frame[\"Salary\"] = [20000,10000,1000000,0,0]"
   ]
  },
  {
   "cell_type": "code",
   "execution_count": 45,
   "id": "ad6a7c2c-b88b-42af-a601-5dec35f80920",
   "metadata": {},
   "outputs": [
    {
     "data": {
      "text/html": [
       "<div>\n",
       "<style scoped>\n",
       "    .dataframe tbody tr th:only-of-type {\n",
       "        vertical-align: middle;\n",
       "    }\n",
       "\n",
       "    .dataframe tbody tr th {\n",
       "        vertical-align: top;\n",
       "    }\n",
       "\n",
       "    .dataframe thead th {\n",
       "        text-align: right;\n",
       "    }\n",
       "</style>\n",
       "<table border=\"1\" class=\"dataframe\">\n",
       "  <thead>\n",
       "    <tr style=\"text-align: right;\">\n",
       "      <th></th>\n",
       "      <th>Name</th>\n",
       "      <th>Age</th>\n",
       "      <th>City</th>\n",
       "      <th>Salary</th>\n",
       "    </tr>\n",
       "  </thead>\n",
       "  <tbody>\n",
       "    <tr>\n",
       "      <th>0</th>\n",
       "      <td>Alice</td>\n",
       "      <td>20</td>\n",
       "      <td>Joburg</td>\n",
       "      <td>20000</td>\n",
       "    </tr>\n",
       "    <tr>\n",
       "      <th>1</th>\n",
       "      <td>Serna</td>\n",
       "      <td>22</td>\n",
       "      <td>Cape Town</td>\n",
       "      <td>10000</td>\n",
       "    </tr>\n",
       "    <tr>\n",
       "      <th>2</th>\n",
       "      <td>Ketsia</td>\n",
       "      <td>8</td>\n",
       "      <td>Tokyo</td>\n",
       "      <td>1000000</td>\n",
       "    </tr>\n",
       "    <tr>\n",
       "      <th>3</th>\n",
       "      <td>Tychique</td>\n",
       "      <td>20</td>\n",
       "      <td>Seoul</td>\n",
       "      <td>0</td>\n",
       "    </tr>\n",
       "    <tr>\n",
       "      <th>4</th>\n",
       "      <td>Keren</td>\n",
       "      <td>17</td>\n",
       "      <td>Bangkok</td>\n",
       "      <td>0</td>\n",
       "    </tr>\n",
       "  </tbody>\n",
       "</table>\n",
       "</div>"
      ],
      "text/plain": [
       "       Name  Age       City   Salary\n",
       "0     Alice   20     Joburg    20000\n",
       "1     Serna   22  Cape Town    10000\n",
       "2    Ketsia    8      Tokyo  1000000\n",
       "3  Tychique   20      Seoul        0\n",
       "4     Keren   17    Bangkok        0"
      ]
     },
     "execution_count": 45,
     "metadata": {},
     "output_type": "execute_result"
    }
   ],
   "source": [
    "data_frame"
   ]
  },
  {
   "cell_type": "code",
   "execution_count": 47,
   "id": "25a77a17-2a4a-4b24-aa68-7c85fa051c1e",
   "metadata": {},
   "outputs": [
    {
     "data": {
      "text/plain": [
       "Name       Alice\n",
       "Age           20\n",
       "City      Joburg\n",
       "Salary     20000\n",
       "Name: 0, dtype: object"
      ]
     },
     "execution_count": 47,
     "metadata": {},
     "output_type": "execute_result"
    }
   ],
   "source": [
    "data_frame.iloc[0]"
   ]
  },
  {
   "cell_type": "code",
   "execution_count": 50,
   "id": "342fff4c-9ae9-4fd9-8de3-8552d4723402",
   "metadata": {},
   "outputs": [
    {
     "data": {
      "text/plain": [
       "0       Alice\n",
       "1       Serna\n",
       "2      Ketsia\n",
       "3    Tychique\n",
       "4       Keren\n",
       "Name: Name, dtype: object"
      ]
     },
     "execution_count": 50,
     "metadata": {},
     "output_type": "execute_result"
    }
   ],
   "source": [
    "data_frame.Name"
   ]
  },
  {
   "cell_type": "code",
   "execution_count": 52,
   "id": "f8484549-6ac5-4df5-886d-ec6dcf0664ac",
   "metadata": {},
   "outputs": [
    {
     "data": {
      "text/plain": [
       "0      20000\n",
       "1      10000\n",
       "2    1000000\n",
       "3          0\n",
       "4          0\n",
       "Name: Salary, dtype: int64"
      ]
     },
     "execution_count": 52,
     "metadata": {},
     "output_type": "execute_result"
    }
   ],
   "source": [
    "data_frame.Salary"
   ]
  },
  {
   "cell_type": "code",
   "execution_count": 56,
   "id": "a6e05c26-1f29-4b9a-b446-ecf4248b3802",
   "metadata": {},
   "outputs": [
    {
     "data": {
      "text/html": [
       "<div>\n",
       "<style scoped>\n",
       "    .dataframe tbody tr th:only-of-type {\n",
       "        vertical-align: middle;\n",
       "    }\n",
       "\n",
       "    .dataframe tbody tr th {\n",
       "        vertical-align: top;\n",
       "    }\n",
       "\n",
       "    .dataframe thead th {\n",
       "        text-align: right;\n",
       "    }\n",
       "</style>\n",
       "<table border=\"1\" class=\"dataframe\">\n",
       "  <thead>\n",
       "    <tr style=\"text-align: right;\">\n",
       "      <th></th>\n",
       "      <th>Name</th>\n",
       "      <th>Salary</th>\n",
       "    </tr>\n",
       "  </thead>\n",
       "  <tbody>\n",
       "    <tr>\n",
       "      <th>0</th>\n",
       "      <td>Alice</td>\n",
       "      <td>20000</td>\n",
       "    </tr>\n",
       "    <tr>\n",
       "      <th>1</th>\n",
       "      <td>Serna</td>\n",
       "      <td>10000</td>\n",
       "    </tr>\n",
       "    <tr>\n",
       "      <th>2</th>\n",
       "      <td>Ketsia</td>\n",
       "      <td>1000000</td>\n",
       "    </tr>\n",
       "    <tr>\n",
       "      <th>3</th>\n",
       "      <td>Tychique</td>\n",
       "      <td>0</td>\n",
       "    </tr>\n",
       "    <tr>\n",
       "      <th>4</th>\n",
       "      <td>Keren</td>\n",
       "      <td>0</td>\n",
       "    </tr>\n",
       "  </tbody>\n",
       "</table>\n",
       "</div>"
      ],
      "text/plain": [
       "       Name   Salary\n",
       "0     Alice    20000\n",
       "1     Serna    10000\n",
       "2    Ketsia  1000000\n",
       "3  Tychique        0\n",
       "4     Keren        0"
      ]
     },
     "execution_count": 56,
     "metadata": {},
     "output_type": "execute_result"
    }
   ],
   "source": [
    "data_frame[[\"Name\",\"Salary\"]]"
   ]
  },
  {
   "cell_type": "markdown",
   "id": "55de6a7d-5fc8-431e-a558-27110e25c9a3",
   "metadata": {},
   "source": [
    "#### CSV FILES"
   ]
  },
  {
   "cell_type": "code",
   "execution_count": 61,
   "id": "f1249ba2-9ca4-434d-b52b-f9dfccd1f993",
   "metadata": {},
   "outputs": [],
   "source": [
    "data_frame.to_csv(\"people_data.csv\",index=False)"
   ]
  },
  {
   "cell_type": "code",
   "execution_count": 62,
   "id": "c23d146f-85b5-4652-b4f2-85c98e0ca7ac",
   "metadata": {},
   "outputs": [],
   "source": [
    "data_frame_csv = pd.read_csv(\"people_data.csv\")"
   ]
  },
  {
   "cell_type": "code",
   "execution_count": 63,
   "id": "78a7637f-1208-49a0-a118-08b0df09b2ec",
   "metadata": {},
   "outputs": [
    {
     "name": "stdout",
     "output_type": "stream",
     "text": [
      "       Name  Age       City   Salary\n",
      "0     Alice   20     Joburg    20000\n",
      "1     Serna   22  Cape Town    10000\n",
      "2    Ketsia    8      Tokyo  1000000\n",
      "3  Tychique   20      Seoul        0\n",
      "4     Keren   17    Bangkok        0\n"
     ]
    }
   ],
   "source": [
    "print(data_frame_csv.head())"
   ]
  },
  {
   "cell_type": "code",
   "execution_count": 65,
   "id": "3f65bc57-8b9b-460a-9336-7b9e4b7b51bb",
   "metadata": {},
   "outputs": [
    {
     "name": "stdout",
     "output_type": "stream",
     "text": [
      "Index(['Name', 'Age', 'City', 'Salary'], dtype='object')\n"
     ]
    }
   ],
   "source": [
    "print(data_frame_csv.columns)"
   ]
  },
  {
   "cell_type": "code",
   "execution_count": 66,
   "id": "9ece0030-2797-4243-b527-f095a37266fa",
   "metadata": {},
   "outputs": [
    {
     "data": {
      "text/plain": [
       "0    20\n",
       "1    22\n",
       "2     8\n",
       "3    20\n",
       "4    17\n",
       "Name: Age, dtype: int64"
      ]
     },
     "execution_count": 66,
     "metadata": {},
     "output_type": "execute_result"
    }
   ],
   "source": [
    "data_frame_csv[\"Age\"]"
   ]
  },
  {
   "cell_type": "code",
   "execution_count": 68,
   "id": "99f606e8-4eaf-495d-9ad5-4d5288c46d9e",
   "metadata": {},
   "outputs": [
    {
     "data": {
      "text/plain": [
       "17.4"
      ]
     },
     "execution_count": 68,
     "metadata": {},
     "output_type": "execute_result"
    }
   ],
   "source": [
    "data_frame_csv[\"Age\"].mean()"
   ]
  },
  {
   "cell_type": "code",
   "execution_count": 69,
   "id": "8a098dd2-0dd0-42f3-8296-b5dc2855b1eb",
   "metadata": {},
   "outputs": [
    {
     "data": {
      "text/html": [
       "<div>\n",
       "<style scoped>\n",
       "    .dataframe tbody tr th:only-of-type {\n",
       "        vertical-align: middle;\n",
       "    }\n",
       "\n",
       "    .dataframe tbody tr th {\n",
       "        vertical-align: top;\n",
       "    }\n",
       "\n",
       "    .dataframe thead th {\n",
       "        text-align: right;\n",
       "    }\n",
       "</style>\n",
       "<table border=\"1\" class=\"dataframe\">\n",
       "  <thead>\n",
       "    <tr style=\"text-align: right;\">\n",
       "      <th></th>\n",
       "      <th>Name</th>\n",
       "      <th>Age</th>\n",
       "      <th>City</th>\n",
       "      <th>Salary</th>\n",
       "    </tr>\n",
       "  </thead>\n",
       "  <tbody>\n",
       "    <tr>\n",
       "      <th>0</th>\n",
       "      <td>Alice</td>\n",
       "      <td>20</td>\n",
       "      <td>Joburg</td>\n",
       "      <td>20000</td>\n",
       "    </tr>\n",
       "    <tr>\n",
       "      <th>1</th>\n",
       "      <td>Serna</td>\n",
       "      <td>22</td>\n",
       "      <td>Cape Town</td>\n",
       "      <td>10000</td>\n",
       "    </tr>\n",
       "    <tr>\n",
       "      <th>2</th>\n",
       "      <td>Ketsia</td>\n",
       "      <td>8</td>\n",
       "      <td>Tokyo</td>\n",
       "      <td>1000000</td>\n",
       "    </tr>\n",
       "    <tr>\n",
       "      <th>3</th>\n",
       "      <td>Tychique</td>\n",
       "      <td>20</td>\n",
       "      <td>Seoul</td>\n",
       "      <td>0</td>\n",
       "    </tr>\n",
       "    <tr>\n",
       "      <th>4</th>\n",
       "      <td>Keren</td>\n",
       "      <td>17</td>\n",
       "      <td>Bangkok</td>\n",
       "      <td>0</td>\n",
       "    </tr>\n",
       "  </tbody>\n",
       "</table>\n",
       "</div>"
      ],
      "text/plain": [
       "       Name  Age       City   Salary\n",
       "0     Alice   20     Joburg    20000\n",
       "1     Serna   22  Cape Town    10000\n",
       "2    Ketsia    8      Tokyo  1000000\n",
       "3  Tychique   20      Seoul        0\n",
       "4     Keren   17    Bangkok        0"
      ]
     },
     "execution_count": 69,
     "metadata": {},
     "output_type": "execute_result"
    }
   ],
   "source": [
    "data_frame_csv"
   ]
  },
  {
   "cell_type": "code",
   "execution_count": 72,
   "id": "9fa46ecb-4c4d-4b29-ba6b-40e1c8489960",
   "metadata": {},
   "outputs": [],
   "source": [
    "del data_frame_csv[\"City\"]"
   ]
  },
  {
   "cell_type": "code",
   "execution_count": 73,
   "id": "c2d2f4fe-f866-45dd-9ed7-d9c899168864",
   "metadata": {},
   "outputs": [
    {
     "data": {
      "text/html": [
       "<div>\n",
       "<style scoped>\n",
       "    .dataframe tbody tr th:only-of-type {\n",
       "        vertical-align: middle;\n",
       "    }\n",
       "\n",
       "    .dataframe tbody tr th {\n",
       "        vertical-align: top;\n",
       "    }\n",
       "\n",
       "    .dataframe thead th {\n",
       "        text-align: right;\n",
       "    }\n",
       "</style>\n",
       "<table border=\"1\" class=\"dataframe\">\n",
       "  <thead>\n",
       "    <tr style=\"text-align: right;\">\n",
       "      <th></th>\n",
       "      <th>Name</th>\n",
       "      <th>Age</th>\n",
       "      <th>Salary</th>\n",
       "    </tr>\n",
       "  </thead>\n",
       "  <tbody>\n",
       "    <tr>\n",
       "      <th>0</th>\n",
       "      <td>Alice</td>\n",
       "      <td>20</td>\n",
       "      <td>20000</td>\n",
       "    </tr>\n",
       "    <tr>\n",
       "      <th>1</th>\n",
       "      <td>Serna</td>\n",
       "      <td>22</td>\n",
       "      <td>10000</td>\n",
       "    </tr>\n",
       "    <tr>\n",
       "      <th>2</th>\n",
       "      <td>Ketsia</td>\n",
       "      <td>8</td>\n",
       "      <td>1000000</td>\n",
       "    </tr>\n",
       "    <tr>\n",
       "      <th>3</th>\n",
       "      <td>Tychique</td>\n",
       "      <td>20</td>\n",
       "      <td>0</td>\n",
       "    </tr>\n",
       "    <tr>\n",
       "      <th>4</th>\n",
       "      <td>Keren</td>\n",
       "      <td>17</td>\n",
       "      <td>0</td>\n",
       "    </tr>\n",
       "  </tbody>\n",
       "</table>\n",
       "</div>"
      ],
      "text/plain": [
       "       Name  Age   Salary\n",
       "0     Alice   20    20000\n",
       "1     Serna   22    10000\n",
       "2    Ketsia    8  1000000\n",
       "3  Tychique   20        0\n",
       "4     Keren   17        0"
      ]
     },
     "execution_count": 73,
     "metadata": {},
     "output_type": "execute_result"
    }
   ],
   "source": [
    "data_frame_csv"
   ]
  },
  {
   "cell_type": "code",
   "execution_count": null,
   "id": "2016ad1f-d2b6-4ccd-9ed6-7ca2bbd5b3ba",
   "metadata": {},
   "outputs": [],
   "source": []
  }
 ],
 "metadata": {
  "kernelspec": {
   "display_name": "Python 3 (ipykernel)",
   "language": "python",
   "name": "python3"
  },
  "language_info": {
   "codemirror_mode": {
    "name": "ipython",
    "version": 3
   },
   "file_extension": ".py",
   "mimetype": "text/x-python",
   "name": "python",
   "nbconvert_exporter": "python",
   "pygments_lexer": "ipython3",
   "version": "3.9.13"
  }
 },
 "nbformat": 4,
 "nbformat_minor": 5
}
